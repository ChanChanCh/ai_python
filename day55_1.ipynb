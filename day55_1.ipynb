{
 "cells": [
  {
   "cell_type": "markdown",
   "id": "3b6834b1",
   "metadata": {},
   "source": [
    "## 넘파이\n",
    "\n",
    "머신러닝의 주요 알고리즘은 선형대수와 통계 등에 기반한다.\n",
    "\n",
    "넘파이는 선형대수 관련 기능을 포함해 다양한 연산 기능을 제공한다.\n",
    "또한 C/C++와 같은 저수준 언어 기반의 호환 API를 제공한다.\n",
    "따라서 프로그램과 데이터를 주고받거나 API를 호출해 쉽게 통합할 수 있게 해준다.\n",
    "\n",
    "넘파이는 배열 기반의 연산은 물론이고 다양한 데이터 핸들링 기능도 제공한다.\n",
    "그러나 비슷한 역할을 수행하는 판다스의 함수들이 좀 더 직관적이어서\n",
    "판다스로 대체하는 경우가 대부분이다.\n",
    "\n"
   ]
  },
  {
   "cell_type": "code",
   "execution_count": 1,
   "id": "45d0e713",
   "metadata": {},
   "outputs": [],
   "source": [
    "# 넘파이 ndarray\n",
    "import numpy as np\n",
    "\n"
   ]
  },
  {
   "cell_type": "code",
   "execution_count": 9,
   "id": "e09e1fca",
   "metadata": {},
   "outputs": [
    {
     "name": "stdout",
     "output_type": "stream",
     "text": [
      "array1 타입 :  <class 'numpy.ndarray'>\n",
      "array1 형태(행열) :  (3,)\n",
      "array2 타입 : <class 'numpy.ndarray'>\n",
      "array2 타입(행열) : (2, 3)\n",
      "array1 배열은 1차원이고, array2 배열은 2차원이다.\n"
     ]
    }
   ],
   "source": [
    "# 멤버가 될 값을 전달하여 배열 생성\n",
    "array1 = np.array([1, 2, 3])\n",
    "print(\"array1 타입 : \" , type(array1))\n",
    "print(\"array1 형태(행열) : \" , array1.shape) # shape = 행열을 나타냄\n",
    "\n",
    "array2 = np.array([[1, 2, 3],[2, 3, 4]])\n",
    "print(\"array2 타입 :\", type(array2))\n",
    "print(\"array2 타입(행열) :\", array2.shape)\n",
    "\n",
    "# ndim 사용 (배열의 차원 수 or 배열의 축 수)\n",
    "print(f\"array1 배열은 {array1.ndim}차원이고, \\\n",
    "      array2 배열은 {array2.ndim}차원이다.\")\n",
    "\n"
   ]
  },
  {
   "cell_type": "markdown",
   "id": "364f441e",
   "metadata": {},
   "source": [
    "## 넘파이 배열의 데이터 타입\n",
    "\n",
    "ndarray가 포함할 수 있는 데이터 타입\n",
    "\n",
    "- 숫자형 int \n",
    "- 숫자형 unsigned int (부호가 없는 int = 양수)\n",
    "- 숫자형 float\n",
    "- 숫자형 complex  ( 크거나 정밀한 값을 위한! )\n",
    "- 문자열\n",
    "- 불리언\n",
    "\n",
    "\n",
    "넘파이 배열 내 데이터 타입은 연산 특성상 같은 타입만 가능하다\n",
    "배열 내 데이터 타입은 dtype 멤버 변수로 확인할 수 있다.\n",
    "\n",
    "만약 자료형이 섞인 리스트를 넘파이 배열로 변환하게 되면,\n",
    "자동 형 변환이 일어나게 된다.\n"
   ]
  },
  {
   "cell_type": "code",
   "execution_count": 13,
   "id": "62e65663",
   "metadata": {},
   "outputs": [
    {
     "name": "stdout",
     "output_type": "stream",
     "text": [
      "<class 'list'>\n",
      "<class 'numpy.ndarray'>\n",
      "[1 2 3] int32\n",
      "['1' '2' 'test'] <U11\n",
      "[1. 2. 3.] float64\n"
     ]
    }
   ],
   "source": [
    "list1 = [1, 2, 3]\n",
    "print(type(list1))\n",
    "array1= np.array(list1)\n",
    "print(type(array1))\n",
    "print(array1, array1.dtype)\n",
    "\n",
    "# 정수는 int8, int16, int32 등으로 표현할 수 있다.\n",
    "\n",
    "list2 = [1, 2, 'test']\n",
    "array2 = np.array(list2)\n",
    "print(array2, array2.dtype)\n",
    "\n",
    "list3 = [1, 2, 3.0]\n",
    "array3 = np.array(list3)\n",
    "print(array3, array3.dtype)\n",
    "\n"
   ]
  },
  {
   "cell_type": "markdown",
   "id": "6b5c1962",
   "metadata": {},
   "source": [
    "### 넘파이 배열 내 타입 변경하기\n",
    "\n",
    "astype() 메소드를 이용하면 타입 변경이 가능하다.\n",
    "\n",
    "이는 메모리를 절약해야 하는 상황에 주로 사용한다.\n",
    "단 메모리 손실이 프로그램에 어떤 영향을 끼칠지 고려할 필요는 있다.\n",
    "\n"
   ]
  },
  {
   "cell_type": "code",
   "execution_count": 14,
   "id": "821659d3",
   "metadata": {},
   "outputs": [
    {
     "name": "stdout",
     "output_type": "stream",
     "text": [
      "[1. 2. 3.] float64\n",
      "[1 2 3] int32\n"
     ]
    }
   ],
   "source": [
    "array_int = np.array([1, 2, 3])\n",
    "array_float = array_int.astype(\"float64\")\n",
    "print(array_float, array_float.dtype)\n",
    "\n",
    "array_int1 = array_float.astype(\"int32\")\n",
    "print(array_int1,array_int1.dtype)"
   ]
  },
  {
   "cell_type": "markdown",
   "id": "9c217bdc",
   "metadata": {},
   "source": [
    "## ndarray 편리하게 생성하기\n",
    "\n",
    "- arange() : 범위를 정해 배열 생성하기\n",
    "- zeros() : 0으로 채워진 배열 생성하기\n",
    "- ones() : 1로 채워진 배열 생성하기\n",
    "\n"
   ]
  },
  {
   "cell_type": "code",
   "execution_count": 25,
   "id": "04098804",
   "metadata": {},
   "outputs": [
    {
     "name": "stdout",
     "output_type": "stream",
     "text": [
      "[0 1 2 3 4 5 6 7 8 9]\n"
     ]
    }
   ],
   "source": [
    "sequence_array = np.arange(10)\n",
    "print(sequence_array)"
   ]
  },
  {
   "cell_type": "code",
   "execution_count": 23,
   "id": "406d261f",
   "metadata": {},
   "outputs": [
    {
     "name": "stdout",
     "output_type": "stream",
     "text": [
      "[[0 1 2 3 4]\n",
      " [5 6 7 8 9]]\n"
     ]
    }
   ],
   "source": [
    "sequence_array = sequence_array.reshape(2,5) # 재배열\n",
    "print(sequence_array)"
   ]
  },
  {
   "cell_type": "code",
   "execution_count": 24,
   "id": "561ea438",
   "metadata": {},
   "outputs": [
    {
     "name": "stdout",
     "output_type": "stream",
     "text": [
      "[[0. 0. 0.]\n",
      " [0. 0. 0.]]\n"
     ]
    }
   ],
   "source": [
    "zero_array = np.zeros((2,3)) # shape을 지정하여 생성\n",
    "print(zero_array)"
   ]
  },
  {
   "cell_type": "code",
   "execution_count": 26,
   "id": "d3fe7b50",
   "metadata": {},
   "outputs": [
    {
     "name": "stdout",
     "output_type": "stream",
     "text": [
      "[[1. 1.]\n",
      " [1. 1.]\n",
      " [1. 1.]\n",
      " [1. 1.]\n",
      " [1. 1.]]\n"
     ]
    }
   ],
   "source": [
    "ones_array = np.ones((5, 2)) # 1로 채워진 배열을 5행 2열로 생성!\n",
    "print(ones_array)"
   ]
  },
  {
   "cell_type": "markdown",
   "id": "22990a25",
   "metadata": {},
   "source": [
    "## 넘파이 ndarray 인덱싱\n",
    "\n",
    "넘파이 배열 인덱싱의 종류\n",
    "- 특정 데이터만 추출 : 리스트, 튜플 등에서의 인덱싱과 동일\n",
    "- 슬라이싱 : 리스트, 튜플에서의 슬라이싱과 동일\n",
    "- 팬시 인덱싱 : 일정한 인덱싱 집합을 리스트 또는 배열 형태로 지정해 해당 위치에 있는 값 반환하기\n",
    "- 불리언 인덱싱 : 특정 조건에 해당하는지 여부를 기반으로 배열 값 반환하기\n",
    "\n",
    "\n"
   ]
  },
  {
   "cell_type": "code",
   "execution_count": 46,
   "id": "6c2277e0",
   "metadata": {},
   "outputs": [
    {
     "name": "stdout",
     "output_type": "stream",
     "text": [
      "[1 2 3 4 5 6 7 8 9]\n",
      "3\n",
      "[5 6 7]\n",
      "[[1 2 3]\n",
      " [4 5 6]\n",
      " [7 8 9]]\n",
      "4\n"
     ]
    }
   ],
   "source": [
    "array1 = np.arange(stop=10, start=1)\n",
    "print(array1) \n",
    "\n",
    "print(array1[2])\n",
    "\n",
    "#슬라이싱\n",
    "print(array1[4:7])\n",
    "\n",
    "#3행 3열로 바꿔보기\n",
    "array1= array1.reshape(3,3)\n",
    "print(array1)\n",
    "print(array1[1, 0])  # 리스트 중첩과 달리 배열은 이렇게 한다.\n",
    "\n",
    "\n"
   ]
  },
  {
   "cell_type": "code",
   "execution_count": 47,
   "id": "3e33923b",
   "metadata": {
    "scrolled": true
   },
   "outputs": [
    {
     "name": "stdout",
     "output_type": "stream",
     "text": [
      "[[ 1  2  3]\n",
      " [ 4  5  6]\n",
      " [ 7  8  9]\n",
      " [10 11 12]]\n",
      "6\n",
      "6\n"
     ]
    }
   ],
   "source": [
    "#퀴즈 : 1부터 12로 채워진 4행 3열짜리 배열을 만들고 6을 인덱싱하자 \n",
    "\n",
    "\n",
    "array2 = np.arange(start=1 , stop = 13)\n",
    "array2= array2.reshape(4,3)\n",
    "print(array2)\n",
    "print(array2[1,2])\n",
    "\n",
    "#위의 문장을 잛게 아래처럼 줄일수도 있다.\n",
    "print(np.arange(start=1 , stop = 13).reshape(4,3)[1,2])"
   ]
  },
  {
   "cell_type": "code",
   "execution_count": 60,
   "id": "9dd35c0c",
   "metadata": {},
   "outputs": [
    {
     "name": "stdout",
     "output_type": "stream",
     "text": [
      "[2 3 4]\n",
      "[0 1 2 3 4 5 6 7 8 9]\n",
      "-----------------------------\n",
      "[[0 1]\n",
      " [2 3]\n",
      " [4 5]\n",
      " [6 7]\n",
      " [8 9]]\n",
      "[[0]\n",
      " [2]]\n",
      "-----------------------------\n",
      "[[1 2]\n",
      " [4 5]]\n"
     ]
    }
   ],
   "source": [
    "# 슬라이싱 : 리스트, 튜플에서의 슬라이싱과 동일\n",
    "\n",
    "array1 = np.arange(10)\n",
    "print(array1[2:5]) # 슬라이싱을할때 원본에대한 영향은 없다 (복사본을 가져와 가공하는것!)\n",
    "print(array1[:]) # 전체복사\n",
    "\n",
    "print(\"-----------------------------\")\n",
    "\n",
    "array1 = array1.reshape(5, 2) \n",
    "print(array1)\n",
    "print(array1[0:2, :1])\n",
    "\n",
    "print(\"-----------------------------\")\n",
    "\n",
    "array2 = np.arange(9).reshape(3, 3)\n",
    "print(array2[0:2, 1:])"
   ]
  },
  {
   "cell_type": "code",
   "execution_count": 61,
   "id": "8a1f0eb9",
   "metadata": {},
   "outputs": [
    {
     "name": "stdout",
     "output_type": "stream",
     "text": [
      "array3 :  [3 6]\n"
     ]
    }
   ],
   "source": [
    "#팬시 인덱싱 : 일정한 인덱싱 집합을 리스트 또는 배열 형태로 지정해 해당 위치에 있는 값 반환하기\n",
    "\n",
    "array1d = np.arange(start=1, stop=10)\n",
    "array2d = array1d.reshape(3, 3)\n",
    "\n",
    "array3 = array2d[[0, 1], 2] # 0과 1행에서 인덱스 2번출력\n",
    "print(\"array3 : \", array3)"
   ]
  },
  {
   "cell_type": "code",
   "execution_count": 63,
   "id": "1fa84b6d",
   "metadata": {},
   "outputs": [
    {
     "name": "stdout",
     "output_type": "stream",
     "text": [
      "[3 4 5 6 7 8]\n",
      "[ True  True  True  True]\n"
     ]
    }
   ],
   "source": [
    "# 필터 역할을 하는 배열의 불린 인덱싱\n",
    "\n",
    "array1 = np.arange(3, 9)\n",
    "\n",
    "# 인덱싱 기호[] 안에서는 배열명을 요소로 취급\n",
    "arrau1 = array1[array1 > 5]\n",
    "print(array1)\n",
    "\n",
    "array2 = np.array([False, True, True, True, False, True, False])\n",
    "array2 = array2[array2]\n",
    "print(array2)\n"
   ]
  },
  {
   "cell_type": "code",
   "execution_count": 72,
   "id": "8842187c",
   "metadata": {},
   "outputs": [
    {
     "name": "stdout",
     "output_type": "stream",
     "text": [
      "[ 5 11]\n"
     ]
    }
   ],
   "source": [
    "# 퀴즈 \n",
    "# 1~12까지의 4행3열을 만든후  5와 11을 출력하여라 \n",
    "\n",
    "\n",
    "array3 = np.arange(start=1 , stop = 13).reshape(4, 3)\n",
    "array4 = array3[[1,3], 1]\n",
    "print(array4)\n"
   ]
  },
  {
   "cell_type": "code",
   "execution_count": null,
   "id": "9431ab49",
   "metadata": {},
   "outputs": [],
   "source": [
    "\n",
    "\n"
   ]
  }
 ],
 "metadata": {
  "kernelspec": {
   "display_name": "Python 3 (ipykernel)",
   "language": "python",
   "name": "python3"
  },
  "language_info": {
   "codemirror_mode": {
    "name": "ipython",
    "version": 3
   },
   "file_extension": ".py",
   "mimetype": "text/x-python",
   "name": "python",
   "nbconvert_exporter": "python",
   "pygments_lexer": "ipython3",
   "version": "3.9.13"
  }
 },
 "nbformat": 4,
 "nbformat_minor": 5
}
