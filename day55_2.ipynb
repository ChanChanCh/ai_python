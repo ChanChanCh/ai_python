{
 "cells": [
  {
   "cell_type": "markdown",
   "id": "26fb99b8",
   "metadata": {},
   "source": [
    "## 넘파이 배열 정렬하기\n",
    "\n",
    "- np.sort() : 원 행렬은 유지한 채 정렬 결과를 반환 (불변 처럼 다룸)\n",
    "- ndarray.sort() : 원 행렬의 정렬 후 결과 반환은 없음 (가변 처럼 다룸)\n",
    "\n"
   ]
  },
  {
   "cell_type": "code",
   "execution_count": 3,
   "id": "9deeb29a",
   "metadata": {},
   "outputs": [
    {
     "name": "stdout",
     "output_type": "stream",
     "text": [
      "원본 행렬 :  [3 1 9 5]\n",
      "sort_array1 :  [1 3 5 9]\n",
      "sort_array2 :  None\n"
     ]
    }
   ],
   "source": [
    "import numpy as np\n",
    "\n",
    "org_array = np.array([3, 1, 9, 5])\n",
    "print(\"원본 행렬 : \", org_array)\n",
    "sort_array1 = np.sort(org_array) #원 행렬은 유지!\n",
    "print(\"sort_array1 : \", sort_array1)\n",
    "\n",
    "sort_array2 = org_array.sort()\n",
    "print(\"sort_array2 : \", sort_array2)"
   ]
  },
  {
   "cell_type": "code",
   "execution_count": 5,
   "id": "0b944f21",
   "metadata": {},
   "outputs": [
    {
     "name": "stdout",
     "output_type": "stream",
     "text": [
      "역순? [9 5 3 1]\n"
     ]
    }
   ],
   "source": [
    "#[::1]  : 확장된 슬라이싱, 역순으로 정렬한다.\n",
    "\n",
    "sort_array1_desc = np.sort(org_array)[::-1]\n",
    "print(\"역순?\", sort_array1_desc)"
   ]
  },
  {
   "cell_type": "code",
   "execution_count": 7,
   "id": "e01c7829",
   "metadata": {},
   "outputs": [
    {
     "name": "stdout",
     "output_type": "stream",
     "text": [
      "[[ 8 12]\n",
      " [ 7  1]]\n",
      "[[ 7  1]\n",
      " [ 8 12]]\n",
      "[[ 8 12]\n",
      " [ 1  7]]\n"
     ]
    }
   ],
   "source": [
    "array2d = np.array([8, 12, 7, 1]).reshape(2, 2)\n",
    "print(array2d)\n",
    "\n",
    "#axis 가 0일 때가 행(row)\n",
    "print(np.sort(array2d, axis=0))\n",
    "\n",
    "#axis 가 1일 때가 열(column)\n",
    "print(np.sort(array2d, axis=1))"
   ]
  },
  {
   "cell_type": "code",
   "execution_count": 10,
   "id": "6e72a3c4",
   "metadata": {},
   "outputs": [
    {
     "name": "stdout",
     "output_type": "stream",
     "text": [
      "<class 'numpy.ndarray'>\n",
      "정렬 시 인덱스 재배열 결과는 : [1 0 3 2]\n"
     ]
    }
   ],
   "source": [
    "org_array = np.array([3, 1, 9, 5])\n",
    "sort_indices = np.argsort(org_array)\n",
    "print(type(sort_indices))\n",
    "print(\"정렬 시 인덱스 재배열 결과는 :\", sort_indices)\n"
   ]
  },
  {
   "cell_type": "code",
   "execution_count": 12,
   "id": "3bb6af02",
   "metadata": {},
   "outputs": [
    {
     "name": "stdout",
     "output_type": "stream",
     "text": [
      "성적 오른차순 정렬 시 성적 인덱스 :  [0 2 1 3]\n",
      "성적 오름차순 정렬 결과 이름으로 출력 : ['pcy' 'eut' 'pcs' 'koujin']\n"
     ]
    }
   ],
   "source": [
    "#RDBMS : 관계형 데이터베이스 관리 시스템\n",
    "\n",
    "\n",
    "name_array = np.array(['pcy','pcs','eut','koujin'])\n",
    "score_array = np.array([78, 95, 84, 98])\n",
    "\n",
    "# 0 1 2 3\n",
    "# name_arrayname_array[0,2,1,3]\n",
    "\n",
    "sort_indices_asc = np.argsort(score_array)\n",
    "print(\"성적 오른차순 정렬 시 성적 인덱스 : \", sort_indices_asc)\n",
    "print(\"성적 오름차순 정렬 결과 이름으로 출력 :\", name_array[sort_indices_asc])"
   ]
  },
  {
   "cell_type": "code",
   "execution_count": 13,
   "id": "0de08bc4",
   "metadata": {},
   "outputs": [
    {
     "name": "stdout",
     "output_type": "stream",
     "text": [
      "A의 전치 행렬:\n",
      " [[1 3]\n",
      " [2 4]]\n"
     ]
    }
   ],
   "source": [
    "# 내적 : 두 텐서(벡터) 간의 관계를 나타내는 데이터\n",
    "\n",
    "A = np.array([[1, 2],\n",
    "            [3,4]])\n",
    "\n",
    "transpose_mat = np.transpose(A)\n",
    "print('A의 전치 행렬:\\n',  transpose_mat)"
   ]
  },
  {
   "cell_type": "code",
   "execution_count": null,
   "id": "ad0db357",
   "metadata": {},
   "outputs": [],
   "source": []
  }
 ],
 "metadata": {
  "kernelspec": {
   "display_name": "Python 3 (ipykernel)",
   "language": "python",
   "name": "python3"
  },
  "language_info": {
   "codemirror_mode": {
    "name": "ipython",
    "version": 3
   },
   "file_extension": ".py",
   "mimetype": "text/x-python",
   "name": "python",
   "nbconvert_exporter": "python",
   "pygments_lexer": "ipython3",
   "version": "3.9.13"
  }
 },
 "nbformat": 4,
 "nbformat_minor": 5
}
